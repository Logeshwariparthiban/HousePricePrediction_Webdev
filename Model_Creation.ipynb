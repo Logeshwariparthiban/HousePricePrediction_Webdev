{
 "cells": [
  {
   "cell_type": "code",
   "execution_count": 13,
   "id": "251eaa47-b534-40f8-b371-fc6ecb60e2cf",
   "metadata": {},
   "outputs": [
    {
     "name": "stdout",
     "output_type": "stream",
     "text": [
      "R-squared: 0.6404607338473809\n",
      "Predicted Price: 7772856.120207834\n"
     ]
    }
   ],
   "source": [
    "import pandas as pd\n",
    "from sklearn.linear_model import LinearRegression\n",
    "from sklearn.pipeline import Pipeline\n",
    "from sklearn.preprocessing import StandardScaler, OneHotEncoder\n",
    "from sklearn.compose import ColumnTransformer\n",
    "from sklearn.model_selection import train_test_split\n",
    "from sklearn.metrics import r2_score\n",
    "\n",
    "# Load your dataset\n",
    "data = pd.read_csv('PreprocessedHousing.csv')  # replace with the actual dataset file path\n",
    "\n",
    "# Strip any extra spaces from column names\n",
    "data.columns = data.columns.str.strip()\n",
    "\n",
    "# Features and target\n",
    "X = data.drop('price', axis=1)\n",
    "y = data['price']\n",
    "\n",
    "# Split the data into training and test sets\n",
    "X_train, X_test, y_train, y_test = train_test_split(X, y, test_size=0.2, random_state=42)\n",
    "\n",
    "# Preprocessing (handle categorical and numerical features)\n",
    "preprocessor = ColumnTransformer(\n",
    "    transformers=[\n",
    "        ('num', StandardScaler(), ['area', 'bedrooms', 'bathrooms', 'stories', 'parking']),  # numeric features\n",
    "        ('cat', OneHotEncoder(handle_unknown='ignore'), ['basement_yes', \n",
    "                                                         'airconditioning_yes', 'prefarea_yes', 'furnishingstatus_semi-furnished', 'furnishingstatus_unfurnished'])  # categorical features\n",
    "    ])\n",
    "\n",
    "\n",
    "# Create a pipeline that preprocesses data and applies Linear Regression\n",
    "model = Pipeline(steps=[\n",
    "    ('preprocessor', preprocessor),\n",
    "    ('regressor', LinearRegression())\n",
    "])\n",
    "\n",
    "# Train the model\n",
    "model.fit(X_train, y_train)\n",
    "\n",
    "# Predictions on the test set\n",
    "y_pred = model.predict(X_test)\n",
    "\n",
    "# Evaluate the model using R-squared\n",
    "r2 = r2_score(y_test, y_pred)\n",
    "print(f'R-squared: {r2}')\n",
    "\n",
    "# Example of predicting new data (ensure correct format)\n",
    "new_data = pd.DataFrame([[7420, 4.0, 3.0, 2.0, 2.0, 1, 0, 0, 1, 0]], \n",
    "                        columns=['area', 'bedrooms', 'bathrooms', 'stories', 'parking', \n",
    "                                 'basement_yes', 'airconditioning_yes', 'prefarea_yes', \n",
    "                                 'furnishingstatus_semi-furnished', 'furnishingstatus_unfurnished'])\n",
    "\n",
    "# Predict the price for the new data\n",
    "predicted_price = model.predict(new_data)\n",
    "print(f'Predicted Price: {predicted_price[0]}')\n",
    "\n"
   ]
  },
  {
   "cell_type": "code",
   "execution_count": 14,
   "id": "62c07efa-7605-4855-b908-4881698219b7",
   "metadata": {},
   "outputs": [],
   "source": [
    "# Importing the pickle library to save and load models\n",
    "import pickle\n",
    "# Defining the filename for saving the model\n",
    "filename=\"Finilised_Model.sav\""
   ]
  },
  {
   "cell_type": "code",
   "execution_count": 15,
   "id": "706d20f7-426e-4db1-8e1d-3522f76f0347",
   "metadata": {},
   "outputs": [],
   "source": [
    "# Saving the trained model to a file\n",
    "pickle.dump(model,open(filename,'wb'))"
   ]
  },
  {
   "cell_type": "code",
   "execution_count": 16,
   "id": "dec685ff-b333-4f29-9e1f-5274de3db0d1",
   "metadata": {},
   "outputs": [
    {
     "name": "stdout",
     "output_type": "stream",
     "text": [
      "Predicted Price: 7772856.120207834\n"
     ]
    }
   ],
   "source": [
    "import pickle\n",
    "import pandas as pd\n",
    "\n",
    "# Load the saved model from the file\n",
    "loaded_model = pickle.load(open(\"Finilised_Model.sav\", 'rb'))\n",
    "\n",
    "# Ensure the data passed to the model has the same number of features as the training data (13 features)\n",
    "result = loaded_model.predict(new_data)\n",
    "\n",
    "print(f'Predicted Price: {result[0]}')\n"
   ]
  }
 ],
 "metadata": {
  "kernelspec": {
   "display_name": "Python 3 (ipykernel)",
   "language": "python",
   "name": "python3"
  },
  "language_info": {
   "codemirror_mode": {
    "name": "ipython",
    "version": 3
   },
   "file_extension": ".py",
   "mimetype": "text/x-python",
   "name": "python",
   "nbconvert_exporter": "python",
   "pygments_lexer": "ipython3",
   "version": "3.12.4"
  }
 },
 "nbformat": 4,
 "nbformat_minor": 5
}
